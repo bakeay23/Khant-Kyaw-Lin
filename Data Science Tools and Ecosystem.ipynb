{
 "cells": [
  {
   "cell_type": "markdown",
   "id": "6c01e46c-1bc2-4293-9c70-d933be1879c8",
   "metadata": {},
   "source": [
    "# Data Science Tools and Ecosystem"
   ]
  },
  {
   "cell_type": "markdown",
   "id": "b8460935-7da6-4f17-8cc6-f0e355e1ffdb",
   "metadata": {},
   "source": [
    "In this notebook, Data Science Tools and Ecosystem are summarized."
   ]
  },
  {
   "cell_type": "markdown",
   "id": "fae97297-1f9e-4fa3-907d-23bada35f378",
   "metadata": {},
   "source": [
    "Some of the popular languages that Data Scientists use are:\n",
    "- Python\n",
    "- R\n",
    "- SQL"
   ]
  },
  {
   "cell_type": "markdown",
   "id": "77f258e2-5d4c-4f3b-89ac-18e30da6784a",
   "metadata": {},
   "source": [
    "Some of the commonly used libraries used by Data Scientists include:\n",
    "- Pandas\n",
    "- NumPy\n",
    "- Matplotlib"
   ]
  },
  {
   "cell_type": "markdown",
   "id": "52df0248-d2ad-4f66-a03d-bcfcffdaa9f4",
   "metadata": {},
   "source": [
    "| Data Science Tool |\n",
    "| ------------------ |\n",
    "| Jupyter Notebooks  |\n",
    "| RStudio           |\n",
    "| TensorFlow        |"
   ]
  },
  {
   "cell_type": "markdown",
   "id": "4010f38f-89ac-478a-9498-bfb5bb10e84f",
   "metadata": {},
   "source": [
    "Below are a few examples of evaluating arithmeetic expressions in Python:\n",
    "- 3 + 4\n",
    "- 3 * 4"
   ]
  },
  {
   "cell_type": "code",
   "execution_count": 6,
   "id": "0aaef691-86da-4b65-bdc6-b1a0f1a473f4",
   "metadata": {},
   "outputs": [
    {
     "data": {
      "text/plain": [
       "17"
      ]
     },
     "execution_count": 6,
     "metadata": {},
     "output_type": "execute_result"
    }
   ],
   "source": [
    "# This code multiplies then adds number\n",
    "result = (3 * 4) + 5\n",
    "result"
   ]
  },
  {
   "cell_type": "code",
   "execution_count": 7,
   "id": "4b8c50ce-8866-4589-8334-935e0a96fd94",
   "metadata": {},
   "outputs": [
    {
     "data": {
      "text/plain": [
       "3.3333333333333335"
      ]
     },
     "execution_count": 7,
     "metadata": {},
     "output_type": "execute_result"
    }
   ],
   "source": [
    "# This code converts 200 minutes to hours by dividing by 60\n",
    "hours = 200 / 60\n",
    "hours"
   ]
  },
  {
   "cell_type": "markdown",
   "id": "bf78771a-0a6a-4f2c-a289-b5cd491565a4",
   "metadata": {},
   "source": [
    "The objectives of this notebook are:\n",
    "- List popular languages for Data Sciencee\n",
    "- List commonly used libraries for Data Science\n",
    "- Liist commony used Data Science tools"
   ]
  },
  {
   "cell_type": "markdown",
   "id": "3371bee4-cf31-45cf-a643-340341f75de9",
   "metadata": {},
   "source": [
    "## Author\n",
    "Khant Kyaw Lin"
   ]
  },
  {
   "cell_type": "code",
   "execution_count": null,
   "id": "ef81511b-1663-4178-a236-fa16cb506b53",
   "metadata": {},
   "outputs": [],
   "source": []
  }
 ],
 "metadata": {
  "kernelspec": {
   "display_name": "Python 3 (ipykernel)",
   "language": "python",
   "name": "python3"
  },
  "language_info": {
   "codemirror_mode": {
    "name": "ipython",
    "version": 3
   },
   "file_extension": ".py",
   "mimetype": "text/x-python",
   "name": "python",
   "nbconvert_exporter": "python",
   "pygments_lexer": "ipython3",
   "version": "3.13.0"
  }
 },
 "nbformat": 4,
 "nbformat_minor": 5
}
